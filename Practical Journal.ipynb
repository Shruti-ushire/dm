{
 "cells": [
  {
   "cell_type": "markdown",
   "id": "f7a2446a-b419-4408-be6f-67915f73055c",
   "metadata": {
    "tags": []
   },
   "source": [
    "\n",
    "\n",
    "#   1]Fundamentals of Python Programming\n",
    "\n",
    "\n",
    "\n"
   ]
  },
  {
   "cell_type": "markdown",
   "id": "b6658171-b530-4eaf-ac61-514ec37d439d",
   "metadata": {},
   "source": [
    "# 1.1 Demonstrate the following: keywords,identifiers,comments and variables in python\n",
    "\n"
   ]
  },
  {
   "cell_type": "code",
   "execution_count": 35,
   "id": "f4c5a7bf-1a00-4661-879a-dd3fe8d73f9a",
   "metadata": {},
   "outputs": [
    {
     "name": "stdout",
     "output_type": "stream",
     "text": [
      "shruti\n",
      "22\n",
      "True\n",
      "shruti is a student and can vote\n",
      "hello,shruti\n"
     ]
    }
   ],
   "source": [
    "# This is comment\n",
    "# Comments are lines of code that are not executed, but serve as notes or\n",
    "#explanations for humans reading the code\n",
    "\n",
    "#Define some variables\n",
    "#Variables are used to store data or values that can be used or manipulated in our program\n",
    "name= \"shruti\"\n",
    "age=22\n",
    "is_student=True\n",
    "\n",
    "#Print the vriables \n",
    "print(name)\n",
    "print(age)\n",
    "print(is_student)\n",
    "\n",
    "#Use some keywords\n",
    "# Keywords are reserved words in Python that have a specific meaning and purpose, such as defining functions or control flow statements.\n",
    "\n",
    "if age >18 and is_student:\n",
    "    print(name+\" is a student and can vote\")\n",
    "else:\n",
    "    print(name+\" cannot vote\")\n",
    "    \n",
    "#define function with an identifier\n",
    "#Identifiers are names given to variables, functions, classes, etc.\n",
    "def greet(person):\n",
    "    print(\"hello,\"+person)\n",
    "#Call the function with an argument\n",
    "greet(name)"
   ]
  },
  {
   "cell_type": "markdown",
   "id": "f3808978-3801-41ef-908d-b0c6ee377b68",
   "metadata": {},
   "source": [
    "# 1.2 Write a python program to demonstrate different data types in python(numeric data type,text data type,sequence data type,mapping data type)\n",
    "\n"
   ]
  },
  {
   "cell_type": "code",
   "execution_count": 4,
   "id": "3ac1759c-545b-41dd-8439-688204220fc2",
   "metadata": {},
   "outputs": [
    {
     "name": "stdout",
     "output_type": "stream",
     "text": [
      "<class 'int'>\n",
      "<class 'float'>\n",
      "<class 'complex'>\n",
      "<class 'str'>\n",
      "<class 'list'>\n",
      "<class 'tuple'>\n",
      "<class 'range'>\n",
      "<class 'dict'>\n"
     ]
    }
   ],
   "source": [
    "# Numeric Data Type\n",
    "x = 5\n",
    "y = 3.14\n",
    "z = complex(1, 2)\n",
    "\n",
    "print(type(x))  # <class 'int'>\n",
    "print(type(y))  # <class 'float'>\n",
    "print(type(z))  # <class 'complex'>\n",
    "\n",
    "# Text Data Type\n",
    "text = \"Hello, world!\"\n",
    "greetig=\"Hello,\"+name+\"!\"\n",
    "print(name,type(name))\n",
    "print(greeting,type(greeting))\n",
    "\n",
    "print(type(text))  # <class 'str'>\n",
    "\n",
    "# Sequence Data Type\n",
    "lst = [1, 2, 3, 4, 5]\n",
    "tpl = ('a', 'b', 'c')\n",
    "rng = range(5)\n",
    "colours= (\"red\",\"blue\",\"yellow\",\"black\")\n",
    "\n",
    "print(type(lst))  # <class 'list'>\n",
    "print(type(tpl))  # <class 'tuple'>\n",
    "print(type(rng))  # <class 'range'>\n",
    "\n",
    "# Mapping Data Type\n",
    "dct = {'a': 1, 'b': 2, 'c': 3}\n",
    "Per={\"name\":'titu',\"age\":2,\"gender\":\"M\"}\n",
    "\n",
    "\n",
    "print(type(dct))  # <class 'dict'>\n",
    "print(type(Per))"
   ]
  },
  {
   "cell_type": "markdown",
   "id": "ba6384f2-ebeb-4535-bf72-10497e842253",
   "metadata": {},
   "source": [
    "# 2.]Python Flow Control\n",
    "\n"
   ]
  },
  {
   "cell_type": "markdown",
   "id": "610e4434-8d20-4389-85f1-d3970bdebf72",
   "metadata": {},
   "source": [
    "# 2.1 Write a Python Program to check age of the user [Condition: if age is greater than 18 then user is eligible for vote O.W not eligible for vote],the input is taken from the user\n",
    "\n"
   ]
  },
  {
   "cell_type": "code",
   "execution_count": 30,
   "id": "1a546a28-6865-451b-8cdf-2d996ac4dfd6",
   "metadata": {},
   "outputs": [
    {
     "name": "stdin",
     "output_type": "stream",
     "text": [
      "Enter a nummber :  55\n"
     ]
    },
    {
     "name": "stdout",
     "output_type": "stream",
     "text": [
      "The user is eligible for voting\n"
     ]
    }
   ],
   "source": [
    "num=int(input(\"Enter a nummber : \"))\n",
    "if num >=18 :\n",
    "    print(\"The user is eligible for voting\")\n",
    "else:\n",
    "    print(\"The user is not eligible for voting\")"
   ]
  },
  {
   "cell_type": "markdown",
   "id": "1b70800a-df99-44ad-9f6f-aaaa0ae44e76",
   "metadata": {},
   "source": [
    "# 2.2 Write a Python Program to print the element of the list using for loop"
   ]
  },
  {
   "cell_type": "code",
   "execution_count": 36,
   "id": "5687f08a-49a5-446d-acec-1f86d1e1ede7",
   "metadata": {},
   "outputs": [
    {
     "name": "stdout",
     "output_type": "stream",
     "text": [
      "M.Sc stats\n",
      "M.Sc maths\n",
      "M.Sc science\n"
     ]
    }
   ],
   "source": [
    "#Pogram to iterate through list using indexing\n",
    "genre=['stats','maths','science']\n",
    "\n",
    "#iterate over list using index\n",
    "for i in range(len(genre)):\n",
    "    print(\"M.Sc\",genre[i])\n"
   ]
  },
  {
   "cell_type": "code",
   "execution_count": 24,
   "id": "e0683810-44fd-42ad-9e7e-a1d28d472d42",
   "metadata": {},
   "outputs": [
    {
     "name": "stdout",
     "output_type": "stream",
     "text": [
      "The sum is : 144\n"
     ]
    }
   ],
   "source": [
    "#list of numbers\n",
    "numbers=[1,2,3,4,56,77,1]\n",
    "\n",
    "#Variables to store sum\n",
    "sum=0\n",
    "\n",
    "#iteraate over the list\n",
    "for val in numbers:\n",
    "    sum= sum+val\n",
    "print(\"The sum is :\",sum)    \n"
   ]
  },
  {
   "cell_type": "markdown",
   "id": "ecfbe56c-7e22-4398-90ec-e93cb36a6a9c",
   "metadata": {},
   "source": [
    "# 2.3 Write a Python Program to demonstrate while loop\n",
    "\n"
   ]
  },
  {
   "cell_type": "code",
   "execution_count": 47,
   "id": "d09f96b2-a839-4869-ad95-0322e4b28d4c",
   "metadata": {},
   "outputs": [
    {
     "name": "stdout",
     "output_type": "stream",
     "text": [
      "1\n",
      "2\n",
      "3\n",
      "4\n",
      "5\n",
      "6\n",
      "7\n",
      "8\n",
      "9\n",
      "10\n",
      "11\n",
      "12\n",
      "13\n",
      "14\n",
      "15\n",
      "16\n",
      "17\n",
      "18\n",
      "19\n",
      "20\n"
     ]
    }
   ],
   "source": [
    "# Initialize a counter variable\n",
    "count = 0\n",
    "\n",
    "# Use a while loop to print the numbers from 1 to 10\n",
    "while count < 20:\n",
    "    count += 1\n",
    "    print(count)\n"
   ]
  },
  {
   "cell_type": "code",
   "execution_count": 39,
   "id": "2cf07ec2-b35f-4586-952e-6cb0cfb1f33d",
   "metadata": {},
   "outputs": [
    {
     "name": "stdin",
     "output_type": "stream",
     "text": [
      "Enter a positive number: 22\n"
     ]
    },
    {
     "name": "stdout",
     "output_type": "stream",
     "text": [
      "The sum is : 253\n"
     ]
    }
   ],
   "source": [
    "n=int(input(\"Enter a positive number:\"))\n",
    "#initialize sum and counter\n",
    "sum=0\n",
    "i=1\n",
    "\n",
    "while i <=n:\n",
    "    sum=sum+i\n",
    "    i=i+1 #update counter\n",
    "#Print the sum\n",
    "print(\"The sum is :\",sum)"
   ]
  },
  {
   "cell_type": "markdown",
   "id": "d07858f2-9847-4a19-a12c-1f1bc245fbe0",
   "metadata": {},
   "source": [
    "# 3.]Function in Python\n",
    "\n"
   ]
  },
  {
   "cell_type": "markdown",
   "id": "fad6d8a2-1122-4954-b3ac-baa6d47e1dee",
   "metadata": {},
   "source": [
    "# 3.1 Create a Function for Calculating addition,subtraction,multiplication,division of 5 numbers (Input has been taken from the user)."
   ]
  },
  {
   "cell_type": "code",
   "execution_count": null,
   "id": "3bf24078-7339-4f00-982d-c2966f708562",
   "metadata": {
    "tags": []
   },
   "outputs": [
    {
     "name": "stdin",
     "output_type": "stream",
     "text": [
      "Enter the first number:  25\n",
      "Enter the second number:  32\n",
      "Enter the third number:  5\n",
      "Enter the fourth number:  65\n",
      "Enter the fifth number:  75\n"
     ]
    },
    {
     "name": "stdout",
     "output_type": "stream",
     "text": [
      "The sum is: 202.0\n",
      "The difference is: -152.0\n",
      "The product is: 19500000.0\n",
      "The quotient is: 3.205128205128205e-05\n"
     ]
    }
   ],
   "source": [
    "def calculate():\n",
    "    # Prompt the user to input five numbers\n",
    "    num1 = float(input(\"Enter the first number: \"))\n",
    "    num2 = float(input(\"Enter the second number: \"))\n",
    "    num3 = float(input(\"Enter the third number: \"))\n",
    "    num4 = float(input(\"Enter the fourth number: \"))\n",
    "    num5 = float(input(\"Enter the fifth number: \"))\n",
    "\n",
    "    # Perform the four basic arithmetic operations\n",
    "    addition = num1 + num2 + num3 + num4 + num5\n",
    "    subtraction = num1 - num2 - num3 - num4 - num5\n",
    "    multiplication = num1 * num2 * num3 * num4 * num5\n",
    "    division = num1 / num2 / num3 / num4 / num5\n",
    "\n",
    "    # Print the results\n",
    "    print(\"The sum is:\", addition)\n",
    "    print(\"The difference is:\", subtraction)\n",
    "    print(\"The product is:\", multiplication)\n",
    "    print(\"The quotient is:\", division)\n",
    "\n",
    "# Call the function to perform the calculations\n",
    "calculate()"
   ]
  },
  {
   "cell_type": "markdown",
   "id": "d2e007f1-b912-4ce6-abfd-491b5e1514c7",
   "metadata": {},
   "source": [
    "# 3.2 Demonstrate Lambda Function in Python"
   ]
  },
  {
   "cell_type": "code",
   "execution_count": 23,
   "id": "48fd4a50-5206-40d4-ab23-02d91515880c",
   "metadata": {},
   "outputs": [
    {
     "name": "stdout",
     "output_type": "stream",
     "text": [
      "22\n",
      "33\n"
     ]
    }
   ],
   "source": [
    "#Write a python program to double the no. amd wirite a python program to triple the function\n",
    "def myfunc(n):\n",
    "    return lambda a: a * n\n",
    "\n",
    "mydoubler= myfunc(2)\n",
    "mytripler= myfunc(3)\n",
    "\n",
    "print(mydoubler(11))\n",
    "print(mytripler(11))"
   ]
  },
  {
   "cell_type": "code",
   "execution_count": 22,
   "id": "8b1a6e5e-fb8c-43e8-890a-cf79160241c2",
   "metadata": {},
   "outputs": [
    {
     "name": "stdout",
     "output_type": "stream",
     "text": [
      "15\n"
     ]
    }
   ],
   "source": [
    "x=lambda a :a + 10   # a= argument ,a+10 = expression \n",
    "print(x(5))"
   ]
  },
  {
   "cell_type": "code",
   "execution_count": 9,
   "id": "e5425fd8-3317-4f04-9e64-25dcfedd2ee0",
   "metadata": {},
   "outputs": [
    {
     "name": "stdout",
     "output_type": "stream",
     "text": [
      "1\n"
     ]
    }
   ],
   "source": [
    "dct = {'a': 1, 'b': 2, 'c': 3}\n",
    "print(dct['a'])\n"
   ]
  },
  {
   "cell_type": "markdown",
   "id": "9b7afc31-3463-4327-9a9c-11bb6b133b30",
   "metadata": {},
   "source": [
    "# 4.]Data Structures in Python\n",
    "\n"
   ]
  },
  {
   "cell_type": "markdown",
   "id": "6467ed78-559a-47ba-ba06-416afc78ceaf",
   "metadata": {},
   "source": [
    "# 4.1 Demonstrate the following array ,list ,tuple,set,Dictionary.\n",
    "\n"
   ]
  },
  {
   "cell_type": "markdown",
   "id": "b6bb8001-9b47-4da8-af34-d74900f18309",
   "metadata": {},
   "source": [
    "# Array4.1\n",
    "Demonstrate the following array ,list ,tuple,set,Dictionary.\n",
    "\n"
   ]
  },
  {
   "cell_type": "code",
   "execution_count": 10,
   "id": "14ba99ff-525d-420f-862c-1901d58d6f9a",
   "metadata": {},
   "outputs": [
    {
     "name": "stdout",
     "output_type": "stream",
     "text": [
      "Apple\n"
     ]
    }
   ],
   "source": [
    "a=\"Apple\"\n",
    "b='Banana'\n",
    "c=\"Mango\"\n",
    "print(a)"
   ]
  },
  {
   "cell_type": "code",
   "execution_count": 11,
   "id": "6ce19c61-6add-41c5-8ff0-6b6eb7726799",
   "metadata": {},
   "outputs": [
    {
     "name": "stdout",
     "output_type": "stream",
     "text": [
      "array('d', [1.2, 2.3, 5.5])\n"
     ]
    }
   ],
   "source": [
    "# to make a vector for specific set of items\n",
    "import array\n",
    "num=array.array('d',[1.2,2.3,5.5]) \n",
    "print(num)"
   ]
  },
  {
   "cell_type": "markdown",
   "id": "b79be6c0-455a-47cb-ae65-9ec871d8b47d",
   "metadata": {},
   "source": [
    "# Tupple "
   ]
  },
  {
   "cell_type": "code",
   "execution_count": 13,
   "id": "2f8d1a83-99f0-497b-b667-dc9522c4caee",
   "metadata": {},
   "outputs": [],
   "source": [
    "my_tuple=(1,2,3)"
   ]
  },
  {
   "cell_type": "code",
   "execution_count": 14,
   "id": "272e4553-b30f-44cd-8295-200c3c07d7f7",
   "metadata": {},
   "outputs": [
    {
     "name": "stdout",
     "output_type": "stream",
     "text": [
      "(1, 2, 3, 'Hello')\n"
     ]
    }
   ],
   "source": [
    "my_tuple1=(1,2,3,\"Hello\")\n",
    "print(my_tuple1)"
   ]
  },
  {
   "cell_type": "markdown",
   "id": "62ed36bc-e7ff-4cde-9d86-c0c8b790850b",
   "metadata": {},
   "source": [
    "# Dictionary"
   ]
  },
  {
   "cell_type": "code",
   "execution_count": 15,
   "id": "f69aec15-82a7-47a9-845e-9aa50e2c4e0f",
   "metadata": {},
   "outputs": [],
   "source": [
    "# empty dictionary\n",
    "my_dict = {}\n",
    "\n",
    "# dictionary with integer keys\n",
    "my_dict = {1: 'apple', 2: 'ball'}\n",
    "\n",
    "# dictionary with mixed keys\n",
    "my_dict = {'name': 'John', 1: [2, 4, 3]}\n",
    "\n",
    "# using dict()\n",
    "my_dict = dict({1:'apple', 2:'ball'})\n",
    "\n",
    "# from sequence having each item as a pair\n",
    "my_dict = dict([(1,'apple'), (2,'ball')])"
   ]
  },
  {
   "cell_type": "code",
   "execution_count": 20,
   "id": "aff17e19-bc5c-4d0e-9580-e2fb7830f340",
   "metadata": {},
   "outputs": [
    {
     "name": "stdout",
     "output_type": "stream",
     "text": [
      "John\n",
      "[2, 4, 3]\n"
     ]
    }
   ],
   "source": [
    "# dictionary with mixed keys\n",
    "my_dict = {'name': 'John', 1: [2, 4, 3]}\n",
    "\n",
    "print(my_dict['name'])\n",
    "print(my_dict[1])"
   ]
  },
  {
   "cell_type": "code",
   "execution_count": null,
   "id": "87bb1556-86fb-4dcd-a85a-fa6648efe4fc",
   "metadata": {},
   "outputs": [],
   "source": [
    "# Different types of sets in Python\n",
    "# set of integers\n",
    "my_set = {1, 2, 3}\n",
    "print(my_set)"
   ]
  },
  {
   "cell_type": "code",
   "execution_count": 52,
   "id": "931ec849-213d-4d9f-83e0-e28dcda04921",
   "metadata": {},
   "outputs": [
    {
     "name": "stdout",
     "output_type": "stream",
     "text": [
      "{1.0, (1, 2, 3), 'Hello'}\n"
     ]
    },
    {
     "data": {
      "text/plain": [
       "set"
      ]
     },
     "execution_count": 52,
     "metadata": {},
     "output_type": "execute_result"
    }
   ],
   "source": [
    "# set of mixed datatypes\n",
    "my_set = {1.0, \"Hello\", (1, 2, 3)}\n",
    "print(my_set)\n",
    "type(my_set)"
   ]
  },
  {
   "cell_type": "code",
   "execution_count": null,
   "id": "9c45f1a6-24d7-46a3-95d2-8fd51df26ca5",
   "metadata": {},
   "outputs": [],
   "source": [
    "# set cannot have duplicates\n",
    "my_set = {1, 2, 3, 4, 3, 2}\n",
    "print(my_set)"
   ]
  },
  {
   "cell_type": "code",
   "execution_count": null,
   "id": "96afeacd-b484-414e-8d13-a097a3dab534",
   "metadata": {},
   "outputs": [],
   "source": [
    "# set cannot have mutable items\n",
    "# here [3, 4] is a mutable list\n",
    "# this will cause an error.\n",
    "\n",
    "my_set = {1, 2, [3, 4]}"
   ]
  },
  {
   "cell_type": "code",
   "execution_count": 48,
   "id": "337099c4-9b39-4917-a075-c29e4b2f3fc6",
   "metadata": {},
   "outputs": [
    {
     "name": "stdout",
     "output_type": "stream",
     "text": [
      "array('l', [1, 2, 3, 4, 5])\n",
      "[1, 2, 3, 4, 'name', 'shruti', 'titu']\n",
      "(12, 10, 2, 5, 6, 7, 'shruti')\n"
     ]
    }
   ],
   "source": [
    "import array\n",
    "#Array\n",
    "a=array.array(\"l\",[1,2,3,4,5])\n",
    "print(a)\n",
    "\n",
    "#List\n",
    "L=[1,2,3,4,\"name\",\"shruti\",\"titu\"]\n",
    "print(L)\n",
    "\n",
    "#Tupple\n",
    "t=(12,10,2,5,6,7,\"shruti\")\n",
    "print(t)\n"
   ]
  },
  {
   "cell_type": "markdown",
   "id": "45d0b271-c02f-4ea2-b60b-8b1fa7036bca",
   "metadata": {},
   "source": [
    "# 5.]Fundamental of Object Oriented Program (OOPs)\n",
    "\n"
   ]
  },
  {
   "cell_type": "markdown",
   "id": "4f19d95a-2df4-405a-9e2c-9c3e2fa76d9f",
   "metadata": {},
   "source": [
    "# 5.1 Demonstrate inheritance in python\n",
    "\n",
    "\n",
    "\n"
   ]
  },
  {
   "cell_type": "code",
   "execution_count": 49,
   "id": "9ad19911-1c55-4d6e-808b-f1663b5fbc57",
   "metadata": {},
   "outputs": [],
   "source": [
    "class parent:\n",
    "    def __init__(self,name,age,sal):\n",
    "        self.name = name\n",
    "        self.age= age \n",
    "        self.sal =sal\n",
    "        \n",
    "    def details(self):\n",
    "        print(\"Name of employee is :\",self.name)\n",
    "        print(\"Age of employee is :\",self.age)\n",
    "        print(\"Salary of employee is :\",self.sal)"
   ]
  },
  {
   "cell_type": "code",
   "execution_count": 50,
   "id": "baf36789-2d1b-4fab-b6e4-e6a0c96f3998",
   "metadata": {},
   "outputs": [],
   "source": [
    "\n",
    "e= parent('Shruti',22,25000)"
   ]
  },
  {
   "cell_type": "code",
   "execution_count": 51,
   "id": "91eaf657-2092-44b0-83e6-08e509fe673f",
   "metadata": {},
   "outputs": [
    {
     "name": "stdout",
     "output_type": "stream",
     "text": [
      "Name of employee is : Shruti\n",
      "Age of employee is : 22\n",
      "Salary of employee is : 25000\n"
     ]
    }
   ],
   "source": [
    "e.details()"
   ]
  },
  {
   "cell_type": "code",
   "execution_count": 40,
   "id": "88b264ab-5076-4035-bd1b-d633f30dcffc",
   "metadata": {},
   "outputs": [],
   "source": [
    "class child(parent):\n",
    "    def department(self):\n",
    "        print(\"Department of Statistics\")"
   ]
  },
  {
   "cell_type": "code",
   "execution_count": 41,
   "id": "3fb57969-b3d4-4eaa-8749-21c9052fd9f4",
   "metadata": {},
   "outputs": [
    {
     "name": "stdout",
     "output_type": "stream",
     "text": [
      "Department of Statistics\n"
     ]
    }
   ],
   "source": [
    "d=child('TITU',22,44000)\n",
    "d.department()"
   ]
  },
  {
   "cell_type": "code",
   "execution_count": 42,
   "id": "5122799b-7683-4443-87bf-3f5e45328fa6",
   "metadata": {},
   "outputs": [
    {
     "name": "stdout",
     "output_type": "stream",
     "text": [
      "Name of employee is : TITU\n",
      "Age of employee is : 22\n",
      "Salary of employee is : 44000\n"
     ]
    }
   ],
   "source": [
    "d.details()"
   ]
  },
  {
   "cell_type": "markdown",
   "id": "a5c38ee7-8bb6-4608-9187-6e84a6cc3703",
   "metadata": {},
   "source": [
    "# 5.2 Demonstrate Polymorphism in python\n",
    "\n",
    "\n",
    "\n"
   ]
  },
  {
   "cell_type": "code",
   "execution_count": 45,
   "id": "5279a577-0e6e-4473-a85e-8672bee7f32a",
   "metadata": {},
   "outputs": [],
   "source": [
    "class Bird:\n",
    "    def intro(self):\n",
    "        print(\"There are many types of birds\")\n",
    "    def fly(self):\n",
    "        print(\"Most of the birds can fly but some cannot\")\n",
    "\n",
    "class sparrow(Bird):\n",
    "    def fly(self):\n",
    "        print(\"Sparrows can fly\")\n",
    "class ostrich(Bird):\n",
    "    def fly(self):\n",
    "        print(\"Ostriches cannot fly\")        "
   ]
  },
  {
   "cell_type": "code",
   "execution_count": 44,
   "id": "e81f6182-6d7c-4a8e-9abd-d825d8944208",
   "metadata": {},
   "outputs": [],
   "source": [
    "obj_bird = Bird()\n",
    "obj_spr = sparrow()\n",
    "obj_ost = ostrich()"
   ]
  },
  {
   "cell_type": "code",
   "execution_count": 45,
   "id": "253cfce9-7493-409c-8540-a7f125c386b6",
   "metadata": {},
   "outputs": [
    {
     "name": "stdout",
     "output_type": "stream",
     "text": [
      "There are many types of birds\n"
     ]
    }
   ],
   "source": [
    "obj_bird.intro()"
   ]
  },
  {
   "cell_type": "code",
   "execution_count": 46,
   "id": "56a02cbe-b667-4e89-a9ff-b4a9ab174a75",
   "metadata": {},
   "outputs": [
    {
     "name": "stdout",
     "output_type": "stream",
     "text": [
      "Most of the birds can fly but some cannot\n"
     ]
    }
   ],
   "source": [
    "obj_bird.fly()"
   ]
  },
  {
   "cell_type": "code",
   "execution_count": 47,
   "id": "9d0a2aa1-2fb4-48df-8a5e-017f8568c9f7",
   "metadata": {},
   "outputs": [
    {
     "name": "stdout",
     "output_type": "stream",
     "text": [
      "There are many types of birds\n",
      "Sparrows can fly\n"
     ]
    }
   ],
   "source": [
    "obj_spr.intro()\n",
    "obj_spr.fly()"
   ]
  },
  {
   "cell_type": "code",
   "execution_count": 48,
   "id": "bb33329d-8971-4175-bf60-40fa3e96e926",
   "metadata": {},
   "outputs": [
    {
     "name": "stdout",
     "output_type": "stream",
     "text": [
      "There are many types of birds\n",
      "Ostriches cannot fly\n"
     ]
    }
   ],
   "source": [
    "obj_ost.intro()\n",
    "obj_ost.fly()"
   ]
  },
  {
   "cell_type": "markdown",
   "id": "4de09617-0df8-476b-8d2a-0eecf6256fff",
   "metadata": {},
   "source": [
    "# 6.]Exception Handling\n",
    "\n"
   ]
  },
  {
   "cell_type": "markdown",
   "id": "d43d6732-34ee-40ba-9e80-99e40d5870cd",
   "metadata": {},
   "source": [
    "# 6.1 Write a python program to demonstrate try and except block\n",
    "\n"
   ]
  },
  {
   "cell_type": "code",
   "execution_count": 44,
   "id": "84f129d9-9076-49b9-8e02-f84fff72dff8",
   "metadata": {},
   "outputs": [
    {
     "name": "stdin",
     "output_type": "stream",
     "text": [
      "Enter a number:  5\n",
      "Enter another number:  0.5\n"
     ]
    },
    {
     "name": "stdout",
     "output_type": "stream",
     "text": [
      "Please enter valid integers\n"
     ]
    }
   ],
   "source": [
    "try:\n",
    "    num1 = int(input(\"Enter a number: \"))\n",
    "    num2 = int(input(\"Enter another number: \"))\n",
    "    result = num1 / num2\n",
    "    print(\"The result of the division is: \", result)\n",
    "except ValueError:\n",
    "    print(\"Please enter valid integers\")\n",
    "except ZeroDivisionError:\n",
    "    print(\"Cannot divide by zero\")\n"
   ]
  },
  {
   "cell_type": "markdown",
   "id": "84a8ffc2-2bf5-4bd4-9c9d-43b839cfddb9",
   "metadata": {},
   "source": [
    "# 7.] Python Files\n",
    "\n"
   ]
  },
  {
   "cell_type": "markdown",
   "id": "71b936f2-616c-47b2-bd80-2e926c3c1d70",
   "metadata": {},
   "source": [
    "# 7.1 Write a Python Program to read data from different file format eg: csv,text,Xml,JSOM\n",
    "\n"
   ]
  },
  {
   "cell_type": "code",
   "execution_count": 67,
   "id": "0f2ff368-c14a-4b6d-b14a-3448e57e36ce",
   "metadata": {},
   "outputs": [
    {
     "name": "stdout",
     "output_type": "stream",
     "text": [
      "      ID  V1  V2  V3  V4  V5  V6  V7  V8  V9  V10  V11  V12\n",
      "0      1   5   3   3   3   3   1   1   5   1    5    1    2\n",
      "1      2   5   1   4   4   3   5   5   1   5    3    3    3\n",
      "2      3   3   4   2   5   3   1   2   2   4    4    3    2\n",
      "3      4   5   2   3   4   2   3   1   4   5    5    1    2\n",
      "4      5   3   1   3   5   5   4   5   2   4    3    4    2\n",
      "..   ...  ..  ..  ..  ..  ..  ..  ..  ..  ..  ...  ...  ...\n",
      "195  196   4   4   5   4   4   5   3   1   5    2    1    2\n",
      "196  197   3   1   1   5   3   5   3   5   4    1    5    5\n",
      "197  198   3   4   3   1   3   2   5   1   4    3    5    1\n",
      "198  199   5   2   3   2   5   3   4   3   3    3    3    1\n",
      "199  200   1   3   2   5   4   5   1   1   5    4    3    3\n",
      "\n",
      "[200 rows x 13 columns]\n",
      "['1\\t5\\t3\\t3\\t3\\t3\\t1\\t1\\t5\\t1\\t5\\t1\\t2'\n",
      " '2\\t5\\t1\\t4\\t4\\t3\\t5\\t5\\t1\\t5\\t3\\t3\\t3'\n",
      " '3\\t3\\t4\\t2\\t5\\t3\\t1\\t2\\t2\\t4\\t4\\t3\\t2'\n",
      " '4\\t5\\t2\\t3\\t4\\t2\\t3\\t1\\t4\\t5\\t5\\t1\\t2'\n",
      " '5\\t3\\t1\\t3\\t5\\t5\\t4\\t5\\t2\\t4\\t3\\t4\\t2'\n",
      " '6\\t5\\t2\\t1\\t3\\t3\\t3\\t3\\t4\\t5\\t1\\t5\\t1'\n",
      " '7\\t1\\t1\\t2\\t1\\t3\\t4\\t5\\t2\\t1\\t1\\t5\\t3'\n",
      " '8\\t2\\t2\\t3\\t1\\t3\\t4\\t2\\t4\\t3\\t2\\t5\\t3'\n",
      " '9\\t5\\t4\\t2\\t3\\t5\\t4\\t4\\t5\\t4\\t4\\t4\\t1'\n",
      " '10\\t3\\t2\\t3\\t2\\t1\\t4\\t5\\t2\\t1\\t4\\t2\\t5'\n",
      " '11\\t1\\t4\\t4\\t3\\t3\\t1\\t1\\t1\\t2\\t2\\t3\\t3'\n",
      " '12\\t5\\t1\\t4\\t1\\t2\\t4\\t3\\t1\\t4\\t2\\t3\\t2'\n",
      " '13\\t4\\t5\\t3\\t1\\t1\\t4\\t2\\t1\\t2\\t4\\t2\\t5'\n",
      " '14\\t5\\t1\\t2\\t3\\t5\\t4\\t3\\t3\\t5\\t4\\t3\\t4'\n",
      " '15\\t4\\t2\\t1\\t1\\t3\\t2\\t3\\t3\\t3\\t2\\t5\\t4'\n",
      " '16\\t2\\t1\\t2\\t4\\t5\\t3\\t5\\t3\\t5\\t1\\t1\\t5'\n",
      " '17\\t4\\t4\\t1\\t5\\t2\\t5\\t4\\t5\\t1\\t1\\t2\\t1'\n",
      " '18\\t5\\t5\\t5\\t5\\t2\\t1\\t1\\t3\\t1\\t3\\t5\\t1'\n",
      " '19\\t5\\t3\\t2\\t5\\t4\\t5\\t5\\t1\\t4\\t1\\t5\\t1'\n",
      " '20\\t3\\t1\\t3\\t4\\t4\\t1\\t3\\t4\\t5\\t5\\t1\\t1'\n",
      " '21\\t2\\t1\\t3\\t4\\t1\\t4\\t3\\t5\\t1\\t3\\t3\\t5'\n",
      " '22\\t5\\t4\\t2\\t1\\t3\\t2\\t1\\t5\\t5\\t2\\t5\\t4'\n",
      " '23\\t4\\t4\\t3\\t5\\t5\\t5\\t1\\t5\\t2\\t1\\t3\\t2'\n",
      " '24\\t3\\t5\\t4\\t5\\t3\\t2\\t4\\t3\\t2\\t2\\t4\\t2'\n",
      " '25\\t1\\t5\\t2\\t4\\t2\\t4\\t4\\t1\\t4\\t5\\t1\\t1'\n",
      " '26\\t4\\t4\\t5\\t1\\t1\\t5\\t2\\t3\\t5\\t1\\t5\\t4'\n",
      " '27\\t4\\t4\\t3\\t5\\t4\\t1\\t3\\t2\\t4\\t5\\t4\\t1'\n",
      " '28\\t4\\t1\\t1\\t5\\t3\\t3\\t4\\t4\\t1\\t1\\t2\\t3'\n",
      " '29\\t4\\t1\\t3\\t1\\t4\\t4\\t5\\t1\\t5\\t3\\t5\\t2'\n",
      " '30\\t3\\t2\\t2\\t3\\t2\\t2\\t4\\t3\\t2\\t5\\t4\\t5'\n",
      " '31\\t5\\t1\\t2\\t3\\t4\\t4\\t5\\t1\\t4\\t3\\t2\\t5'\n",
      " '32\\t3\\t3\\t3\\t1\\t5\\t4\\t4\\t4\\t1\\t1\\t4\\t2'\n",
      " '33\\t4\\t4\\t3\\t4\\t4\\t3\\t3\\t4\\t3\\t2\\t1\\t4'\n",
      " '34\\t2\\t3\\t3\\t1\\t5\\t3\\t1\\t1\\t5\\t4\\t4\\t1'\n",
      " '35\\t4\\t2\\t1\\t3\\t1\\t4\\t2\\t1\\t3\\t2\\t2\\t2'\n",
      " '36\\t4\\t1\\t2\\t5\\t2\\t2\\t2\\t2\\t1\\t1\\t1\\t5'\n",
      " '37\\t3\\t1\\t3\\t4\\t5\\t4\\t5\\t3\\t4\\t4\\t3\\t3'\n",
      " '38\\t1\\t2\\t1\\t2\\t2\\t5\\t4\\t3\\t2\\t3\\t3\\t4'\n",
      " '39\\t1\\t2\\t5\\t4\\t1\\t5\\t5\\t3\\t4\\t5\\t1\\t3'\n",
      " '40\\t2\\t1\\t2\\t3\\t3\\t1\\t4\\t2\\t2\\t1\\t3\\t1'\n",
      " '41\\t4\\t3\\t2\\t5\\t2\\t2\\t5\\t3\\t3\\t4\\t1\\t1'\n",
      " '42\\t5\\t5\\t5\\t4\\t3\\t5\\t4\\t1\\t1\\t4\\t4\\t2'\n",
      " '43\\t4\\t2\\t2\\t4\\t5\\t1\\t3\\t2\\t1\\t3\\t2\\t1'\n",
      " '44\\t2\\t2\\t3\\t4\\t5\\t2\\t3\\t5\\t1\\t4\\t3\\t1'\n",
      " '45\\t1\\t1\\t2\\t4\\t1\\t3\\t5\\t4\\t3\\t3\\t2\\t5'\n",
      " '46\\t5\\t2\\t4\\t5\\t3\\t4\\t1\\t5\\t2\\t4\\t3\\t3'\n",
      " '47\\t2\\t5\\t4\\t2\\t4\\t4\\t3\\t5\\t1\\t3\\t3\\t1'\n",
      " '48\\t2\\t3\\t1\\t5\\t2\\t4\\t1\\t2\\t4\\t4\\t3\\t2'\n",
      " '49\\t5\\t4\\t5\\t3\\t3\\t1\\t5\\t5\\t1\\t2\\t2\\t1'\n",
      " '50\\t2\\t1\\t3\\t3\\t4\\t1\\t3\\t5\\t3\\t3\\t3\\t2'\n",
      " '51\\t5\\t4\\t4\\t5\\t3\\t4\\t5\\t5\\t1\\t2\\t1\\t4'\n",
      " '52\\t4\\t2\\t1\\t2\\t3\\t1\\t5\\t3\\t4\\t5\\t3\\t3'\n",
      " '53\\t5\\t5\\t4\\t5\\t3\\t2\\t3\\t5\\t2\\t4\\t2\\t1'\n",
      " '54\\t2\\t3\\t5\\t5\\t1\\t3\\t2\\t4\\t4\\t4\\t2\\t4'\n",
      " '55\\t4\\t2\\t2\\t3\\t4\\t1\\t3\\t2\\t1\\t1\\t5\\t5'\n",
      " '56\\t2\\t2\\t2\\t5\\t5\\t5\\t3\\t3\\t1\\t4\\t5\\t3'\n",
      " '57\\t3\\t4\\t2\\t5\\t3\\t2\\t5\\t2\\t3\\t3\\t1\\t2'\n",
      " '58\\t5\\t2\\t2\\t1\\t3\\t1\\t3\\t5\\t4\\t2\\t1\\t1'\n",
      " '59\\t2\\t2\\t4\\t2\\t4\\t4\\t3\\t5\\t1\\t2\\t5\\t2'\n",
      " '60\\t1\\t5\\t3\\t3\\t4\\t3\\t5\\t1\\t3\\t5\\t1\\t2'\n",
      " '61\\t3\\t4\\t4\\t1\\t3\\t1\\t2\\t2\\t1\\t1\\t4\\t1'\n",
      " '62\\t3\\t3\\t3\\t2\\t4\\t2\\t4\\t3\\t2\\t1\\t3\\t2'\n",
      " '63\\t4\\t4\\t1\\t1\\t5\\t5\\t4\\t4\\t3\\t3\\t2\\t1'\n",
      " '64\\t1\\t2\\t2\\t4\\t4\\t3\\t3\\t1\\t3\\t5\\t4\\t3'\n",
      " '65\\t2\\t5\\t3\\t1\\t1\\t5\\t4\\t4\\t1\\t5\\t1\\t5'\n",
      " '66\\t3\\t3\\t3\\t5\\t4\\t4\\t1\\t2\\t4\\t2\\t2\\t4'\n",
      " '67\\t1\\t4\\t4\\t5\\t1\\t1\\t5\\t3\\t2\\t4\\t1\\t4'\n",
      " '68\\t2\\t3\\t3\\t1\\t5\\t3\\t4\\t1\\t2\\t4\\t5\\t5'\n",
      " '69\\t4\\t1\\t4\\t2\\t3\\t3\\t2\\t5\\t3\\t2\\t1\\t4'\n",
      " '70\\t5\\t4\\t3\\t2\\t3\\t3\\t2\\t4\\t4\\t1\\t5\\t2'\n",
      " '71\\t3\\t2\\t4\\t5\\t1\\t3\\t2\\t5\\t3\\t2\\t3\\t1'\n",
      " '72\\t4\\t4\\t1\\t5\\t5\\t3\\t1\\t5\\t5\\t5\\t1\\t3'\n",
      " '73\\t4\\t2\\t2\\t4\\t1\\t2\\t1\\t4\\t4\\t5\\t1\\t5'\n",
      " '74\\t5\\t2\\t2\\t2\\t4\\t5\\t2\\t3\\t4\\t3\\t5\\t2'\n",
      " '75\\t4\\t5\\t2\\t4\\t1\\t2\\t5\\t2\\t3\\t4\\t2\\t5'\n",
      " '76\\t4\\t3\\t4\\t3\\t4\\t3\\t3\\t2\\t4\\t1\\t5\\t2'\n",
      " '77\\t4\\t1\\t1\\t2\\t4\\t3\\t4\\t5\\t2\\t5\\t4\\t2'\n",
      " '78\\t3\\t1\\t5\\t1\\t1\\t4\\t5\\t1\\t1\\t3\\t5\\t1'\n",
      " '79\\t4\\t2\\t5\\t1\\t4\\t2\\t3\\t1\\t1\\t1\\t4\\t5'\n",
      " '80\\t3\\t2\\t3\\t5\\t4\\t2\\t5\\t4\\t2\\t1\\t5\\t1'\n",
      " '81\\t2\\t2\\t1\\t3\\t2\\t2\\t3\\t2\\t4\\t2\\t2\\t3'\n",
      " '82\\t1\\t3\\t3\\t2\\t4\\t4\\t5\\t3\\t1\\t5\\t1\\t5'\n",
      " '83\\t5\\t5\\t2\\t1\\t1\\t1\\t3\\t2\\t4\\t5\\t4\\t3'\n",
      " '84\\t5\\t5\\t4\\t2\\t1\\t5\\t4\\t2\\t2\\t5\\t3\\t1'\n",
      " '85\\t2\\t3\\t3\\t3\\t4\\t4\\t5\\t3\\t4\\t1\\t1\\t2'\n",
      " '86\\t5\\t2\\t3\\t1\\t5\\t1\\t3\\t3\\t5\\t2\\t3\\t3'\n",
      " '87\\t2\\t4\\t4\\t3\\t5\\t4\\t3\\t2\\t1\\t5\\t5\\t3'\n",
      " '88\\t4\\t2\\t3\\t1\\t4\\t4\\t1\\t4\\t2\\t5\\t1\\t1'\n",
      " '89\\t1\\t4\\t2\\t1\\t2\\t1\\t4\\t5\\t1\\t1\\t4\\t5'\n",
      " '90\\t4\\t5\\t2\\t2\\t3\\t5\\t5\\t3\\t1\\t3\\t5\\t4'\n",
      " '91\\t5\\t1\\t5\\t4\\t1\\t1\\t5\\t3\\t3\\t5\\t2\\t3'\n",
      " '92\\t2\\t4\\t1\\t5\\t4\\t5\\t5\\t1\\t2\\t4\\t2\\t3'\n",
      " '93\\t1\\t5\\t2\\t5\\t4\\t3\\t4\\t3\\t5\\t4\\t5\\t5'\n",
      " '94\\t4\\t2\\t4\\t3\\t1\\t2\\t5\\t4\\t3\\t1\\t4\\t4'\n",
      " '95\\t2\\t4\\t4\\t2\\t1\\t5\\t2\\t2\\t5\\t1\\t4\\t5'\n",
      " '96\\t4\\t4\\t5\\t4\\t4\\t5\\t3\\t1\\t5\\t2\\t1\\t2'\n",
      " '97\\t3\\t1\\t1\\t5\\t3\\t5\\t3\\t5\\t4\\t1\\t5\\t5'\n",
      " '98\\t3\\t4\\t3\\t1\\t3\\t2\\t5\\t1\\t4\\t3\\t5\\t1'\n",
      " '99\\t5\\t2\\t3\\t2\\t5\\t3\\t4\\t3\\t3\\t3\\t3\\t1'\n",
      " '100\\t1\\t3\\t2\\t5\\t4\\t5\\t1\\t1\\t5\\t4\\t3\\t3'\n",
      " '101\\t5\\t3\\t3\\t3\\t3\\t1\\t1\\t5\\t1\\t5\\t1\\t2'\n",
      " '102\\t5\\t1\\t4\\t4\\t3\\t5\\t5\\t1\\t5\\t3\\t3\\t3'\n",
      " '103\\t3\\t4\\t2\\t5\\t3\\t1\\t2\\t2\\t4\\t4\\t3\\t2'\n",
      " '104\\t5\\t2\\t3\\t4\\t2\\t3\\t1\\t4\\t5\\t5\\t1\\t2'\n",
      " '105\\t3\\t1\\t3\\t5\\t5\\t4\\t5\\t2\\t4\\t3\\t4\\t2'\n",
      " '106\\t5\\t2\\t1\\t3\\t3\\t3\\t3\\t4\\t5\\t1\\t5\\t1'\n",
      " '107\\t1\\t1\\t2\\t1\\t3\\t4\\t5\\t2\\t1\\t1\\t5\\t3'\n",
      " '108\\t2\\t2\\t3\\t1\\t3\\t4\\t2\\t4\\t3\\t2\\t5\\t3'\n",
      " '109\\t5\\t4\\t2\\t3\\t5\\t4\\t4\\t5\\t4\\t4\\t4\\t1'\n",
      " '110\\t3\\t2\\t3\\t2\\t1\\t4\\t5\\t2\\t1\\t4\\t2\\t5'\n",
      " '111\\t1\\t4\\t4\\t3\\t3\\t1\\t1\\t1\\t2\\t2\\t3\\t3'\n",
      " '112\\t5\\t1\\t4\\t1\\t2\\t4\\t3\\t1\\t4\\t2\\t3\\t2'\n",
      " '113\\t4\\t5\\t3\\t1\\t1\\t4\\t2\\t1\\t2\\t4\\t2\\t5'\n",
      " '114\\t5\\t1\\t2\\t3\\t5\\t4\\t3\\t3\\t5\\t4\\t3\\t4'\n",
      " '115\\t4\\t2\\t1\\t1\\t3\\t2\\t3\\t3\\t3\\t2\\t5\\t4'\n",
      " '116\\t2\\t1\\t2\\t4\\t5\\t3\\t5\\t3\\t5\\t1\\t1\\t5'\n",
      " '117\\t4\\t4\\t1\\t5\\t2\\t5\\t4\\t5\\t1\\t1\\t2\\t1'\n",
      " '118\\t5\\t5\\t5\\t5\\t2\\t1\\t1\\t3\\t1\\t3\\t5\\t1'\n",
      " '119\\t5\\t3\\t2\\t5\\t4\\t5\\t5\\t1\\t4\\t1\\t5\\t1'\n",
      " '120\\t3\\t1\\t3\\t4\\t4\\t1\\t3\\t4\\t5\\t5\\t1\\t1'\n",
      " '121\\t2\\t1\\t3\\t4\\t1\\t4\\t3\\t5\\t1\\t3\\t3\\t5'\n",
      " '122\\t5\\t4\\t2\\t1\\t3\\t2\\t1\\t5\\t5\\t2\\t5\\t4'\n",
      " '123\\t4\\t4\\t3\\t5\\t5\\t5\\t1\\t5\\t2\\t1\\t3\\t2'\n",
      " '124\\t3\\t5\\t4\\t5\\t3\\t2\\t4\\t3\\t2\\t2\\t4\\t2'\n",
      " '125\\t1\\t5\\t2\\t4\\t2\\t4\\t4\\t1\\t4\\t5\\t1\\t1'\n",
      " '126\\t4\\t4\\t5\\t1\\t1\\t5\\t2\\t3\\t5\\t1\\t5\\t4'\n",
      " '127\\t4\\t4\\t3\\t5\\t4\\t1\\t3\\t2\\t4\\t5\\t4\\t1'\n",
      " '128\\t4\\t1\\t1\\t5\\t3\\t3\\t4\\t4\\t1\\t1\\t2\\t3'\n",
      " '129\\t4\\t1\\t3\\t1\\t4\\t4\\t5\\t1\\t5\\t3\\t5\\t2'\n",
      " '130\\t3\\t2\\t2\\t3\\t2\\t2\\t4\\t3\\t2\\t5\\t4\\t5'\n",
      " '131\\t5\\t1\\t2\\t3\\t4\\t4\\t5\\t1\\t4\\t3\\t2\\t5'\n",
      " '132\\t3\\t3\\t3\\t1\\t5\\t4\\t4\\t4\\t1\\t1\\t4\\t2'\n",
      " '133\\t4\\t4\\t3\\t4\\t4\\t3\\t3\\t4\\t3\\t2\\t1\\t4'\n",
      " '134\\t2\\t3\\t3\\t1\\t5\\t3\\t1\\t1\\t5\\t4\\t4\\t1'\n",
      " '135\\t4\\t2\\t1\\t3\\t1\\t4\\t2\\t1\\t3\\t2\\t2\\t2'\n",
      " '136\\t4\\t1\\t2\\t5\\t2\\t2\\t2\\t2\\t1\\t1\\t1\\t5'\n",
      " '137\\t3\\t1\\t3\\t4\\t5\\t4\\t5\\t3\\t4\\t4\\t3\\t3'\n",
      " '138\\t1\\t2\\t1\\t2\\t2\\t5\\t4\\t3\\t2\\t3\\t3\\t4'\n",
      " '139\\t1\\t2\\t5\\t4\\t1\\t5\\t5\\t3\\t4\\t5\\t1\\t3'\n",
      " '140\\t2\\t1\\t2\\t3\\t3\\t1\\t4\\t2\\t2\\t1\\t3\\t1'\n",
      " '141\\t4\\t3\\t2\\t5\\t2\\t2\\t5\\t3\\t3\\t4\\t1\\t1'\n",
      " '142\\t5\\t5\\t5\\t4\\t3\\t5\\t4\\t1\\t1\\t4\\t4\\t2'\n",
      " '143\\t4\\t2\\t2\\t4\\t5\\t1\\t3\\t2\\t1\\t3\\t2\\t1'\n",
      " '144\\t2\\t2\\t3\\t4\\t5\\t2\\t3\\t5\\t1\\t4\\t3\\t1'\n",
      " '145\\t1\\t1\\t2\\t4\\t1\\t3\\t5\\t4\\t3\\t3\\t2\\t5'\n",
      " '146\\t5\\t2\\t4\\t5\\t3\\t4\\t1\\t5\\t2\\t4\\t3\\t3'\n",
      " '147\\t2\\t5\\t4\\t2\\t4\\t4\\t3\\t5\\t1\\t3\\t3\\t1'\n",
      " '148\\t2\\t3\\t1\\t5\\t2\\t4\\t1\\t2\\t4\\t4\\t3\\t2'\n",
      " '149\\t5\\t4\\t5\\t3\\t3\\t1\\t5\\t5\\t1\\t2\\t2\\t1'\n",
      " '150\\t2\\t1\\t3\\t3\\t4\\t1\\t3\\t5\\t3\\t3\\t3\\t2'\n",
      " '151\\t5\\t4\\t4\\t5\\t3\\t4\\t5\\t5\\t1\\t2\\t1\\t4'\n",
      " '152\\t4\\t2\\t1\\t2\\t3\\t1\\t5\\t3\\t4\\t5\\t3\\t3'\n",
      " '153\\t5\\t5\\t4\\t5\\t3\\t2\\t3\\t5\\t2\\t4\\t2\\t1'\n",
      " '154\\t2\\t3\\t5\\t5\\t1\\t3\\t2\\t4\\t4\\t4\\t2\\t4'\n",
      " '155\\t4\\t2\\t2\\t3\\t4\\t1\\t3\\t2\\t1\\t1\\t5\\t5'\n",
      " '156\\t2\\t2\\t2\\t5\\t5\\t5\\t3\\t3\\t1\\t4\\t5\\t3'\n",
      " '157\\t3\\t4\\t2\\t5\\t3\\t2\\t5\\t2\\t3\\t3\\t1\\t2'\n",
      " '158\\t5\\t2\\t2\\t1\\t3\\t1\\t3\\t5\\t4\\t2\\t1\\t1'\n",
      " '159\\t2\\t2\\t4\\t2\\t4\\t4\\t3\\t5\\t1\\t2\\t5\\t2'\n",
      " '160\\t1\\t5\\t3\\t3\\t4\\t3\\t5\\t1\\t3\\t5\\t1\\t2'\n",
      " '161\\t3\\t4\\t4\\t1\\t3\\t1\\t2\\t2\\t1\\t1\\t4\\t1'\n",
      " '162\\t3\\t3\\t3\\t2\\t4\\t2\\t4\\t3\\t2\\t1\\t3\\t2'\n",
      " '163\\t4\\t4\\t1\\t1\\t5\\t5\\t4\\t4\\t3\\t3\\t2\\t1'\n",
      " '164\\t1\\t2\\t2\\t4\\t4\\t3\\t3\\t1\\t3\\t5\\t4\\t3'\n",
      " '165\\t2\\t5\\t3\\t1\\t1\\t5\\t4\\t4\\t1\\t5\\t1\\t5'\n",
      " '166\\t3\\t3\\t3\\t5\\t4\\t4\\t1\\t2\\t4\\t2\\t2\\t4'\n",
      " '167\\t1\\t4\\t4\\t5\\t1\\t1\\t5\\t3\\t2\\t4\\t1\\t4'\n",
      " '168\\t2\\t3\\t3\\t1\\t5\\t3\\t4\\t1\\t2\\t4\\t5\\t5'\n",
      " '169\\t4\\t1\\t4\\t2\\t3\\t3\\t2\\t5\\t3\\t2\\t1\\t4'\n",
      " '170\\t5\\t4\\t3\\t2\\t3\\t3\\t2\\t4\\t4\\t1\\t5\\t2'\n",
      " '171\\t3\\t2\\t4\\t5\\t1\\t3\\t2\\t5\\t3\\t2\\t3\\t1'\n",
      " '172\\t4\\t4\\t1\\t5\\t5\\t3\\t1\\t5\\t5\\t5\\t1\\t3'\n",
      " '173\\t4\\t2\\t2\\t4\\t1\\t2\\t1\\t4\\t4\\t5\\t1\\t5'\n",
      " '174\\t5\\t2\\t2\\t2\\t4\\t5\\t2\\t3\\t4\\t3\\t5\\t2'\n",
      " '175\\t4\\t5\\t2\\t4\\t1\\t2\\t5\\t2\\t3\\t4\\t2\\t5'\n",
      " '176\\t4\\t3\\t4\\t3\\t4\\t3\\t3\\t2\\t4\\t1\\t5\\t2'\n",
      " '177\\t4\\t1\\t1\\t2\\t4\\t3\\t4\\t5\\t2\\t5\\t4\\t2'\n",
      " '178\\t3\\t1\\t5\\t1\\t1\\t4\\t5\\t1\\t1\\t3\\t5\\t1'\n",
      " '179\\t4\\t2\\t5\\t1\\t4\\t2\\t3\\t1\\t1\\t1\\t4\\t5'\n",
      " '180\\t3\\t2\\t3\\t5\\t4\\t2\\t5\\t4\\t2\\t1\\t5\\t1'\n",
      " '181\\t2\\t2\\t1\\t3\\t2\\t2\\t3\\t2\\t4\\t2\\t2\\t3'\n",
      " '182\\t1\\t3\\t3\\t2\\t4\\t4\\t5\\t3\\t1\\t5\\t1\\t5'\n",
      " '183\\t5\\t5\\t2\\t1\\t1\\t1\\t3\\t2\\t4\\t5\\t4\\t3'\n",
      " '184\\t5\\t5\\t4\\t2\\t1\\t5\\t4\\t2\\t2\\t5\\t3\\t1'\n",
      " '185\\t2\\t3\\t3\\t3\\t4\\t4\\t5\\t3\\t4\\t1\\t1\\t2'\n",
      " '186\\t5\\t2\\t3\\t1\\t5\\t1\\t3\\t3\\t5\\t2\\t3\\t3'\n",
      " '187\\t2\\t4\\t4\\t3\\t5\\t4\\t3\\t2\\t1\\t5\\t5\\t3'\n",
      " '188\\t4\\t2\\t3\\t1\\t4\\t4\\t1\\t4\\t2\\t5\\t1\\t1'\n",
      " '189\\t1\\t4\\t2\\t1\\t2\\t1\\t4\\t5\\t1\\t1\\t4\\t5'\n",
      " '190\\t4\\t5\\t2\\t2\\t3\\t5\\t5\\t3\\t1\\t3\\t5\\t4'\n",
      " '191\\t5\\t1\\t5\\t4\\t1\\t1\\t5\\t3\\t3\\t5\\t2\\t3'\n",
      " '192\\t2\\t4\\t1\\t5\\t4\\t5\\t5\\t1\\t2\\t4\\t2\\t3'\n",
      " '193\\t1\\t5\\t2\\t5\\t4\\t3\\t4\\t3\\t5\\t4\\t5\\t5'\n",
      " '194\\t4\\t2\\t4\\t3\\t1\\t2\\t5\\t4\\t3\\t1\\t4\\t4'\n",
      " '195\\t2\\t4\\t4\\t2\\t1\\t5\\t2\\t2\\t5\\t1\\t4\\t5'\n",
      " '196\\t4\\t4\\t5\\t4\\t4\\t5\\t3\\t1\\t5\\t2\\t1\\t2'\n",
      " '197\\t3\\t1\\t1\\t5\\t3\\t5\\t3\\t5\\t4\\t1\\t5\\t5'\n",
      " '198\\t3\\t4\\t3\\t1\\t3\\t2\\t5\\t1\\t4\\t3\\t5\\t1'\n",
      " '199\\t5\\t2\\t3\\t2\\t5\\t3\\t4\\t3\\t3\\t3\\t3\\t1'\n",
      " '200\\t1\\t3\\t2\\t5\\t4\\t5\\t1\\t1\\t5\\t4\\t3\\t3']\n"
     ]
    }
   ],
   "source": [
    "import pandas as pd\n",
    "import csv\n",
    "import json\n",
    "import xml.etree.ElementTree as ET\n",
    "import numpy as np\n",
    "\n",
    "A=pd.read_csv(\"DummyData.csv\")\n",
    "print(A)\n",
    "\n",
    "filename = 'duum.txt'\n",
    "data = np.loadtxt(filename, delimiter=' ', skiprows=1, dtype=str)\n",
    "print(data)\n",
    "\n",
    "\n"
   ]
  },
  {
   "cell_type": "markdown",
   "id": "15d1a6b0-183b-4ec7-8d1a-eefefb43da20",
   "metadata": {},
   "source": [
    "# 8.]Data Manipulation using Pandas\n",
    "\n"
   ]
  },
  {
   "cell_type": "markdown",
   "id": "f1865a9c-8f67-4e8b-9069-1583779ac943",
   "metadata": {},
   "source": [
    "# 8.1 Perform Univariate Analysis [Descriptive Statistics]for the given data set\n",
    "\n"
   ]
  },
  {
   "cell_type": "code",
   "execution_count": 11,
   "id": "f2584756-0093-44f1-bd02-9f65b7661abc",
   "metadata": {},
   "outputs": [
    {
     "data": {
      "text/html": [
       "<div>\n",
       "<style scoped>\n",
       "    .dataframe tbody tr th:only-of-type {\n",
       "        vertical-align: middle;\n",
       "    }\n",
       "\n",
       "    .dataframe tbody tr th {\n",
       "        vertical-align: top;\n",
       "    }\n",
       "\n",
       "    .dataframe thead th {\n",
       "        text-align: right;\n",
       "    }\n",
       "</style>\n",
       "<table border=\"1\" class=\"dataframe\">\n",
       "  <thead>\n",
       "    <tr style=\"text-align: right;\">\n",
       "      <th></th>\n",
       "      <th>Area</th>\n",
       "      <th>Price</th>\n",
       "    </tr>\n",
       "  </thead>\n",
       "  <tbody>\n",
       "    <tr>\n",
       "      <th>0</th>\n",
       "      <td>1</td>\n",
       "      <td>500</td>\n",
       "    </tr>\n",
       "    <tr>\n",
       "      <th>1</th>\n",
       "      <td>2</td>\n",
       "      <td>300</td>\n",
       "    </tr>\n",
       "    <tr>\n",
       "      <th>2</th>\n",
       "      <td>3</td>\n",
       "      <td>400</td>\n",
       "    </tr>\n",
       "    <tr>\n",
       "      <th>3</th>\n",
       "      <td>4</td>\n",
       "      <td>500</td>\n",
       "    </tr>\n",
       "    <tr>\n",
       "      <th>4</th>\n",
       "      <td>5</td>\n",
       "      <td>200</td>\n",
       "    </tr>\n",
       "  </tbody>\n",
       "</table>\n",
       "</div>"
      ],
      "text/plain": [
       "   Area  Price\n",
       "0     1    500\n",
       "1     2    300\n",
       "2     3    400\n",
       "3     4    500\n",
       "4     5    200"
      ]
     },
     "execution_count": 11,
     "metadata": {},
     "output_type": "execute_result"
    }
   ],
   "source": [
    "df= pd.DataFrame({\n",
    "    'Area':(1,2,3,4,5),\n",
    "    'Price':(500,300,400,500,200)\n",
    "    \n",
    "})\n",
    "df"
   ]
  },
  {
   "cell_type": "code",
   "execution_count": 12,
   "id": "dcbd9cc4-b702-4ad4-81f9-ca1256d4d906",
   "metadata": {},
   "outputs": [
    {
     "name": "stdout",
     "output_type": "stream",
     "text": [
      "3.0 is the mean of Area\n"
     ]
    }
   ],
   "source": [
    "Area_mean = df['Area'].mean()\n",
    "print(Area_mean,\"is the mean of Area\")"
   ]
  },
  {
   "cell_type": "code",
   "execution_count": 13,
   "id": "600e3734-c076-4bb7-a23f-6db392d2f780",
   "metadata": {},
   "outputs": [
    {
     "name": "stdout",
     "output_type": "stream",
     "text": [
      "2.5 is the Variance of Area\n"
     ]
    }
   ],
   "source": [
    "Area_var = df['Area'].var()\n",
    "print(Area_var,\"is the Variance of Area\")"
   ]
  },
  {
   "cell_type": "code",
   "execution_count": 14,
   "id": "1d938618-7322-4df2-a0f8-9ef7180a8667",
   "metadata": {},
   "outputs": [
    {
     "name": "stdout",
     "output_type": "stream",
     "text": [
      "3.0 is the median of Area\n"
     ]
    }
   ],
   "source": [
    "Area_median = df['Area'].median()\n",
    "print(Area_median,\"is the median of Area\")"
   ]
  },
  {
   "cell_type": "code",
   "execution_count": 15,
   "id": "b683c901-dd74-4c4b-878d-5d93499006de",
   "metadata": {},
   "outputs": [
    {
     "name": "stdout",
     "output_type": "stream",
     "text": [
      "0    1\n",
      "1    2\n",
      "2    3\n",
      "3    4\n",
      "4    5\n",
      "Name: Area, dtype: int64 is the mode of Area\n"
     ]
    }
   ],
   "source": [
    "Area_mode = df['Area'].mode()\n",
    "print(Area_mode,\"is the mode of Area\")"
   ]
  },
  {
   "cell_type": "code",
   "execution_count": 16,
   "id": "e9028d63-fa2b-4227-a98e-bd3594f88b5e",
   "metadata": {},
   "outputs": [
    {
     "name": "stdout",
     "output_type": "stream",
     "text": [
      "1.5811388300841898 is the td of Area\n"
     ]
    }
   ],
   "source": [
    "Area_std = df['Area'].std()\n",
    "print(Area_std,\"is the td of Area\")\n",
    "# the spread of the dataset is "
   ]
  },
  {
   "cell_type": "code",
   "execution_count": 17,
   "id": "865c06f5-b815-4030-b72b-5b9dd6a1e987",
   "metadata": {},
   "outputs": [
    {
     "data": {
      "text/plain": [
       "380.0"
      ]
     },
     "execution_count": 17,
     "metadata": {},
     "output_type": "execute_result"
    }
   ],
   "source": [
    "Price_mean = df['Price'].mean()\n",
    "Price_mean"
   ]
  },
  {
   "cell_type": "code",
   "execution_count": 18,
   "id": "302db28b-b27f-4150-a004-34ee27fd87f2",
   "metadata": {},
   "outputs": [
    {
     "data": {
      "text/plain": [
       "400.0"
      ]
     },
     "execution_count": 18,
     "metadata": {},
     "output_type": "execute_result"
    }
   ],
   "source": [
    "Price_median = df['Price'].median()\n",
    "Price_median"
   ]
  },
  {
   "cell_type": "code",
   "execution_count": 19,
   "id": "bd853721-8bad-4ce5-b5f2-4a7cda126a21",
   "metadata": {},
   "outputs": [
    {
     "data": {
      "text/plain": [
       "0    500\n",
       "Name: Price, dtype: int64"
      ]
     },
     "execution_count": 19,
     "metadata": {},
     "output_type": "execute_result"
    }
   ],
   "source": [
    "Price_mode = df['Price'].mode()\n",
    "Price_mode"
   ]
  },
  {
   "cell_type": "code",
   "execution_count": 20,
   "id": "5594d767-33f2-448e-a212-6b79485983e9",
   "metadata": {},
   "outputs": [
    {
     "data": {
      "text/plain": [
       "17000.0"
      ]
     },
     "execution_count": 20,
     "metadata": {},
     "output_type": "execute_result"
    }
   ],
   "source": [
    "Price_var = df['Price'].var()\n",
    "Price_var"
   ]
  },
  {
   "cell_type": "code",
   "execution_count": 21,
   "id": "45567f8d-c9b4-45b0-b401-74004d2deefa",
   "metadata": {},
   "outputs": [
    {
     "data": {
      "text/plain": [
       "130.38404810405297"
      ]
     },
     "execution_count": 21,
     "metadata": {},
     "output_type": "execute_result"
    }
   ],
   "source": [
    "Price_sd = df['Price'].std()\n",
    "Price_sd"
   ]
  },
  {
   "cell_type": "markdown",
   "id": "b6829668-b6b9-4052-b88c-c4e1549054ef",
   "metadata": {},
   "source": [
    "# 8.2 Create a Pandas Data frame :[Name: “Aliya”,”Boby”,”Chandan’,”Dhanush”,”Era’]\n",
    "[Address:”Ahmedabad”,”Bangalore”,”Chennai”,”Delhi”,”Egypt”]\n",
    "[Marks: 45,55,65,75,85]\n",
    "[IQ; 0.5,0.4,0.8,0.9,0.2]\n",
    "Perform index slicing in the data frame.\n"
   ]
  },
  {
   "cell_type": "code",
   "execution_count": 41,
   "id": "74836d75-1e6a-4ce2-ac8e-86b642f90398",
   "metadata": {},
   "outputs": [
    {
     "data": {
      "text/html": [
       "<div>\n",
       "<style scoped>\n",
       "    .dataframe tbody tr th:only-of-type {\n",
       "        vertical-align: middle;\n",
       "    }\n",
       "\n",
       "    .dataframe tbody tr th {\n",
       "        vertical-align: top;\n",
       "    }\n",
       "\n",
       "    .dataframe thead th {\n",
       "        text-align: right;\n",
       "    }\n",
       "</style>\n",
       "<table border=\"1\" class=\"dataframe\">\n",
       "  <thead>\n",
       "    <tr style=\"text-align: right;\">\n",
       "      <th></th>\n",
       "      <th>Name</th>\n",
       "      <th>Address</th>\n",
       "      <th>Marks</th>\n",
       "      <th>IQ</th>\n",
       "    </tr>\n",
       "  </thead>\n",
       "  <tbody>\n",
       "    <tr>\n",
       "      <th>0</th>\n",
       "      <td>Alia</td>\n",
       "      <td>Ahmedabad</td>\n",
       "      <td>45</td>\n",
       "      <td>0.5</td>\n",
       "    </tr>\n",
       "    <tr>\n",
       "      <th>1</th>\n",
       "      <td>Boby</td>\n",
       "      <td>Banglore</td>\n",
       "      <td>55</td>\n",
       "      <td>0.4</td>\n",
       "    </tr>\n",
       "    <tr>\n",
       "      <th>2</th>\n",
       "      <td>Carri</td>\n",
       "      <td>Chennai</td>\n",
       "      <td>65</td>\n",
       "      <td>0.8</td>\n",
       "    </tr>\n",
       "    <tr>\n",
       "      <th>3</th>\n",
       "      <td>Dhanush</td>\n",
       "      <td>Delhi</td>\n",
       "      <td>75</td>\n",
       "      <td>0.9</td>\n",
       "    </tr>\n",
       "    <tr>\n",
       "      <th>4</th>\n",
       "      <td>Ellyse</td>\n",
       "      <td>Egypt</td>\n",
       "      <td>85</td>\n",
       "      <td>0.2</td>\n",
       "    </tr>\n",
       "  </tbody>\n",
       "</table>\n",
       "</div>"
      ],
      "text/plain": [
       "      Name    Address  Marks   IQ\n",
       "0     Alia  Ahmedabad     45  0.5\n",
       "1     Boby   Banglore     55  0.4\n",
       "2    Carri    Chennai     65  0.8\n",
       "3  Dhanush      Delhi     75  0.9\n",
       "4   Ellyse      Egypt     85  0.2"
      ]
     },
     "execution_count": 41,
     "metadata": {},
     "output_type": "execute_result"
    }
   ],
   "source": [
    "import pandas as pd\n",
    "\n",
    "# Create the DataFrame\n",
    "df = pd.DataFrame({\n",
    "    \"Name\": [\"Alia\", \"Boby\", \"Carri\", \"Dhanush\", \"Ellyse\"],\n",
    "    \"Address\": [\"Ahmedabad\", \"Banglore\", \"Chennai\", \"Delhi\", \"Egypt\"],\n",
    "    \"Marks\": [45, 55, 65, 75, 85],\n",
    "    \"IQ\": [0.5, 0.4, 0.8, 0.9, 0.2]\n",
    "})\n",
    "\n",
    "df"
   ]
  },
  {
   "cell_type": "code",
   "execution_count": 10,
   "id": "1a1bb310-110d-4e37-ad60-9fa41d04dcd2",
   "metadata": {},
   "outputs": [
    {
     "data": {
      "text/html": [
       "<div>\n",
       "<style scoped>\n",
       "    .dataframe tbody tr th:only-of-type {\n",
       "        vertical-align: middle;\n",
       "    }\n",
       "\n",
       "    .dataframe tbody tr th {\n",
       "        vertical-align: top;\n",
       "    }\n",
       "\n",
       "    .dataframe thead th {\n",
       "        text-align: right;\n",
       "    }\n",
       "</style>\n",
       "<table border=\"1\" class=\"dataframe\">\n",
       "  <thead>\n",
       "    <tr style=\"text-align: right;\">\n",
       "      <th></th>\n",
       "      <th>Name</th>\n",
       "      <th>Marks</th>\n",
       "    </tr>\n",
       "  </thead>\n",
       "  <tbody>\n",
       "    <tr>\n",
       "      <th>1</th>\n",
       "      <td>Boby</td>\n",
       "      <td>55</td>\n",
       "    </tr>\n",
       "    <tr>\n",
       "      <th>2</th>\n",
       "      <td>Carri</td>\n",
       "      <td>65</td>\n",
       "    </tr>\n",
       "  </tbody>\n",
       "</table>\n",
       "</div>"
      ],
      "text/plain": [
       "    Name  Marks\n",
       "1   Boby     55\n",
       "2  Carri     65"
      ]
     },
     "execution_count": 10,
     "metadata": {},
     "output_type": "execute_result"
    }
   ],
   "source": [
    "# Perform index slicing\n",
    "sliced_df = df.iloc[1:3, [0, 2]]\n",
    "sliced_df "
   ]
  },
  {
   "cell_type": "markdown",
   "id": "b80ee916-f204-413a-b3e2-75bbc4ff640a",
   "metadata": {},
   "source": [
    "# 9.]Data Visualization\n",
    "\n"
   ]
  },
  {
   "cell_type": "markdown",
   "id": "139c5625-778d-4236-8759-e4655ebc6104",
   "metadata": {},
   "source": [
    "# 9.1 Display Histogram and Bar chart \n",
    "\n"
   ]
  },
  {
   "cell_type": "code",
   "execution_count": 4,
   "id": "873094cf-fbe9-45c1-8769-7cb89c54987c",
   "metadata": {},
   "outputs": [],
   "source": [
    "import pandas as pd\n",
    "import numpy as np\n",
    "# to import\n",
    "from matplotlib import pyplot as plt\n",
    "import matplotlib.pyplot as plt\n",
    "\n",
    "\n"
   ]
  },
  {
   "cell_type": "code",
   "execution_count": 7,
   "id": "be778702-b053-400c-a7a9-12ed41b87dd5",
   "metadata": {},
   "outputs": [
    {
     "data": {
      "text/plain": [
       "Text(0, 0.5, 'freq')"
      ]
     },
     "execution_count": 7,
     "metadata": {},
     "output_type": "execute_result"
    },
    {
     "data": {
      "image/png": "[encoded data removed]",
      "text/plain": [
       "<Figure size 640x480 with 1 Axes>"
      ]
     },
     "metadata": {},
     "output_type": "display_data"
    }
   ],
   "source": [
    "\n",
    "#display histogram\n",
    "data=np.random.normal(0,1,1000)\n",
    "plt.hist(data,bins=30)\n",
    "plt.title(\"Histogram\")\n",
    "plt.xlabel(\"vals\")\n",
    "plt.ylabel(\"freq\")\n"
   ]
  },
  {
   "cell_type": "code",
   "execution_count": 54,
   "id": "0039dfbb-1cfc-474f-879b-c1fe6d5d6ba2",
   "metadata": {},
   "outputs": [
    {
     "data": {
      "text/plain": [
       "Text(0.5, 1.0, 'Bar Plot ')"
      ]
     },
     "execution_count": 54,
     "metadata": {},
     "output_type": "execute_result"
    },
    {
     "data": {
      "image/png": "[encoded data removed]",
      "text/plain": [
       "<Figure size 640x480 with 1 Axes>"
      ]
     },
     "metadata": {},
     "output_type": "display_data"
    }
   ],
   "source": [
    "#Bar chart\n",
    "x = ['A', 'B', 'C', 'D']\n",
    "y = [10, 24, 36, 45]\n",
    "# Create a bar plot\n",
    "plt.bar(x, y)\n",
    "\n",
    "# Add labels and title\n",
    "plt.xlabel('Category')\n",
    "plt.ylabel('Value')\n",
    "plt.title('Bar Plot ')"
   ]
  },
  {
   "cell_type": "markdown",
   "id": "f7e44c66-470a-40d5-a836-6f9d66a345b7",
   "metadata": {},
   "source": [
    "# 9.2 Display Line Chart and Scatter plot\n",
    "\n"
   ]
  },
  {
   "cell_type": "code",
   "execution_count": 64,
   "id": "9fd89f2c-684e-4390-964e-a222eb02c3fe",
   "metadata": {},
   "outputs": [
    {
     "data": {
      "text/plain": [
       "Text(0.5, 1.0, 'Scatter PLot')"
      ]
     },
     "execution_count": 64,
     "metadata": {},
     "output_type": "execute_result"
    },
    {
     "data": {
      "image/png": "[encoded data removed]",
      "text/plain": [
       "<Figure size 640x480 with 1 Axes>"
      ]
     },
     "metadata": {},
     "output_type": "display_data"
    }
   ],
   "source": [
    "#Display scatter plot\n",
    "x=np.random.normal(0,1,100)\n",
    "y=np.random.normal(0,1,100)\n",
    "plt.scatter(x,y)\n",
    "plt.title(\"Scatter PLot\")"
   ]
  },
  {
   "cell_type": "code",
   "execution_count": 28,
   "id": "b8427276-3eb7-4b90-bf05-aab324d32989",
   "metadata": {},
   "outputs": [
    {
     "data": {
      "text/plain": [
       "[<matplotlib.lines.Line2D at 0x1bed38af100>]"
      ]
     },
     "execution_count": 28,
     "metadata": {},
     "output_type": "execute_result"
    },
    {
     "data": {
      "image/png": "[encoded data removed]",
      "text/plain": [
       "<Figure size 640x480 with 1 Axes>"
      ]
     },
     "metadata": {},
     "output_type": "display_data"
    }
   ],
   "source": [
    "#Line chart\n",
    "import matplotlib.pyplot as plt\n",
    "import numpy as np\n",
    "x=np.linspace(0,10,100)\n",
    "y=np.sin(x)\n",
    "plt.plot(x,y)"
   ]
  },
  {
   "cell_type": "markdown",
   "id": "93610c9f-e443-40d8-bcc4-a7e0a8358432",
   "metadata": {},
   "source": [
    "# 9.3 Display Heat map and pie chart\n",
    "\n"
   ]
  },
  {
   "cell_type": "code",
   "execution_count": 34,
   "id": "e2cae2a2-2cd1-4c8d-8eeb-84d4e2c35a42",
   "metadata": {},
   "outputs": [
    {
     "data": {
      "image/png": "[encoded data removed]",
      "text/plain": [
       "<Figure size 640x480 with 2 Axes>"
      ]
     },
     "metadata": {},
     "output_type": "display_data"
    }
   ],
   "source": [
    "import seaborn as sns\n",
    "import matplotlib.pyplot as plt\n",
    "\n",
    "# Example heatmap data\n",
    "data = [[0.2, 0.4, 0.6], [0.8, 0.1, 0.3], [0.5, 0.9, 0.7]]\n",
    "\n",
    "# Create heatmap\n",
    "sns.heatmap(data, annot=True, cmap='coolwarm')\n",
    "\n",
    "# Display heatmap\n",
    "plt.show()\n",
    "\n"
   ]
  },
  {
   "cell_type": "code",
   "execution_count": 94,
   "id": "ab8a7a05-6c14-4734-a65c-5aeef0bd75e4",
   "metadata": {},
   "outputs": [],
   "source": [
    "#Pie Chart"
   ]
  },
  {
   "cell_type": "code",
   "execution_count": 40,
   "id": "a99526ff-d183-4bc3-b115-78c1e88e1346",
   "metadata": {},
   "outputs": [
    {
     "data": {
      "text/plain": [
       "Text(0.5, 1.0, 'Pie chart')"
      ]
     },
     "execution_count": 40,
     "metadata": {},
     "output_type": "execute_result"
    },
    {
     "data": {
      "image/png": "[encoded data removed]",
      "text/plain": [
       "<Figure size 640x480 with 1 Axes>"
      ]
     },
     "metadata": {},
     "output_type": "display_data"
    }
   ],
   "source": [
    "sizes=[40,30,30]\n",
    "labels=[\"a\",\"b\",\"c\"]\n",
    "plt.pie(sizes,labels=labels,autopct='%1.1f%%',startangle=90)\n",
    "plt.title(\"Pie chart\")"
   ]
  },
  {
   "cell_type": "markdown",
   "id": "f24dfe6b-33d0-40d5-8f5d-b117680fb60d",
   "metadata": {},
   "source": [
    "# 9.4 Outlier detection using Box Plot"
   ]
  },
  {
   "cell_type": "code",
   "execution_count": 38,
   "id": "84766ffd-7be0-4dd0-baf1-6e2e2c4b3ac2",
   "metadata": {},
   "outputs": [
    {
     "data": {
      "text/plain": [
       "<Axes: >"
      ]
     },
     "execution_count": 38,
     "metadata": {},
     "output_type": "execute_result"
    },
    {
     "data": {
      "image/png": "[encoded data removed]",
      "text/plain": [
       "<Figure size 640x480 with 1 Axes>"
      ]
     },
     "metadata": {},
     "output_type": "display_data"
    }
   ],
   "source": [
    "# Boxplot\n",
    "import pandas as pd\n",
    "import seaborn as sns\n",
    "from sklearn.datasets import load_diabetes\n",
    "# using this code x and y takes the value of dependent amd independent var\n",
    "\n",
    "d=load_diabetes()\n",
    "X=pd.DataFrame(x)\n",
    "Y=pd.DataFrame(y)\n",
    "sns.boxplot(X)"
   ]
  },
  {
   "cell_type": "code",
   "execution_count": 91,
   "id": "79ac29fb-d4c9-4f9d-8862-fd9498b9d9da",
   "metadata": {},
   "outputs": [
    {
     "data": {
      "text/plain": [
       "<Axes: >"
      ]
     },
     "execution_count": 91,
     "metadata": {},
     "output_type": "execute_result"
    },
    {
     "data": {
      "image/png": "[encoded data removed]",
      "text/plain": [
       "<Figure size 640x480 with 1 Axes>"
      ]
     },
     "metadata": {},
     "output_type": "display_data"
    }
   ],
   "source": [
    "sns.boxplot(y)"
   ]
  },
  {
   "cell_type": "code",
   "execution_count": 53,
   "id": "88371bf8-7f05-4a74-b1de-54f96c1da2ee",
   "metadata": {},
   "outputs": [
    {
     "data": {
      "text/plain": [
       "<Axes: >"
      ]
     },
     "execution_count": 53,
     "metadata": {},
     "output_type": "execute_result"
    },
    {
     "data": {
      "image/png": "[encoded data removed]",
      "text/plain": [
       "<Figure size 640x480 with 1 Axes>"
      ]
     },
     "metadata": {},
     "output_type": "display_data"
    }
   ],
   "source": [
    "d=load_diabetes()\n",
    "X=pd.DataFrame(x)\n",
    "Y=pd.DataFrame(y)\n",
    "sns.boxplot(X)"
   ]
  },
  {
   "cell_type": "code",
   "execution_count": null,
   "id": "e499cf73-b662-4aaa-a382-717dcdc2f215",
   "metadata": {},
   "outputs": [],
   "source": []
  }
 ],
 "metadata": {
  "kernelspec": {
   "display_name": "Python 3 (ipykernel)",
   "language": "python",
   "name": "python3"
  },
  "language_info": {
   "codemirror_mode": {
    "name": "ipython",
    "version": 3
   },
   "file_extension": ".py",
   "mimetype": "text/x-python",
   "name": "python",
   "nbconvert_exporter": "python",
   "pygments_lexer": "ipython3",
   "version": "3.9.16"
  }
 },
 "nbformat": 4,
 "nbformat_minor": 5
}
